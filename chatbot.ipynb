{
 "cells": [
  {
   "cell_type": "markdown",
   "metadata": {},
   "source": [
    "This is a project where I build a Chatbot for my SQL Database using Streamlit and Vanna Libraries\n",
    "\n",
    "Streamlit Provides the UI by turning datascripts into shareable web apps\n",
    "Vanna provides the Infra to use LLMs to Generate SQL for you (asking your SQL database questions)"
   ]
  },
  {
   "cell_type": "code",
   "execution_count": 33,
   "metadata": {},
   "outputs": [],
   "source": [
    "import vanna as vn \n",
    "import streamlit as st"
   ]
  },
  {
   "cell_type": "code",
   "execution_count": 37,
   "metadata": {},
   "outputs": [],
   "source": [
    "api_key='5ff055cdce0c4d0999515f5682d31467'\n",
    "\n",
    "vanna_model_name = 'Chinook.sqlite'\n",
    "vn = VannaDefault(model=vanna_model_name, api_key=api_key)"
   ]
  },
  {
   "cell_type": "code",
   "execution_count": null,
   "metadata": {},
   "outputs": [],
   "source": [
    "question = st.session_state.get(\"question\", default=None)\n",
    "if question is None:\n",
    "    st.image(\"chinook-schema.png\", use_column_width=True)\n",
    "    question = st.text_input(\"Ask me a question that I can turn into SQL\", key='question')\n",
    "else:\n",
    "    st.title(question)\n",
    "    sql = vn.generate_sql(question)\n",
    "    st.code(sql, language='sql')\n",
    "    df = vn.run_sql(sql)\n",
    "    st.dataframe(df, use_container_width=True)\n",
    "    fig = vn.get_plotly_figure(plotly_code=vn.generate_plotly_code(question=question, sql=sql, df=df), df=df)\n",
    "    st.plotly_chart(fig, use_container_width=True)\n",
    "    st.button(\"Ask another question\", on_click=lambda: st.session_state.clear())\n",
    "\n"
   ]
  }
 ],
 "metadata": {
  "kernelspec": {
   "display_name": "Python 3",
   "language": "python",
   "name": "python3"
  },
  "language_info": {
   "codemirror_mode": {
    "name": "ipython",
    "version": 3
   },
   "file_extension": ".py",
   "mimetype": "text/x-python",
   "name": "python",
   "nbconvert_exporter": "python",
   "pygments_lexer": "ipython3",
   "version": "3.11.6"
  }
 },
 "nbformat": 4,
 "nbformat_minor": 2
}
